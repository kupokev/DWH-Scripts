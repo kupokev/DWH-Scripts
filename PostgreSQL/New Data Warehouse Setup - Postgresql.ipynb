{
    "metadata": {
        "kernelspec": {
            "name": "SQL",
            "display_name": "SQL",
            "language": "sql"
        },
        "language_info": {
            "name": "sql",
            "version": ""
        }
    },
    "nbformat_minor": 2,
    "nbformat": 4,
    "cells": [
        {
            "cell_type": "markdown",
            "source": [
                " Create Source System database table"
            ],
            "metadata": {
                "azdata_cell_guid": "13544c34-bf68-4b4c-b008-1ab706835d8f"
            }
        },
        {
            "cell_type": "code",
            "source": [
                "CREATE TABLE SourceSystem (\r\n",
                "\t\tsource_system_id int UNIQUE PRIMARY KEY,\r\n",
                "\t\tsystem_name varchar(32) NULL,\r\n",
                "\t\tsystem_version varchar(16) NULL,\r\n",
                "        system_type varchar(32) NULL,\r\n",
                "\t\texternal_schema varchar(16) NULL,\r\n",
                "\t\tis_production bit NOT NULL\r\n",
                ");\r\n",
                ""
            ],
            "metadata": {
                "azdata_cell_guid": "5616e981-f26c-4c64-acc7-bd45ce3d8b25"
            },
            "outputs": [
                {
                    "output_type": "display_data",
                    "data": {
                        "text/html": "Commands completed successfully"
                    },
                    "metadata": {}
                },
                {
                    "output_type": "display_data",
                    "data": {
                        "text/html": "Total execution time: 00:00:00.013"
                    },
                    "metadata": {}
                }
            ],
            "execution_count": 1
        },
        {
            "cell_type": "markdown",
            "source": [
                "Create Source System table"
            ],
            "metadata": {
                "azdata_cell_guid": "f3da0df3-996e-4a31-88c1-8d37415dfaed"
            }
        },
        {
            "cell_type": "code",
            "source": [
                "DROP TABLE IF EXISTS temp_source_system;\r\n",
                "\r\n",
                "CREATE TEMPORARY TABLE temp_source_system (\r\n",
                "    source_system_id int NOT NULL,\r\n",
                "    system_name varchar(32) NULL,\r\n",
                "    system_version varchar(16) NULL,\r\n",
                "    system_type varchar(32) NULL,\r\n",
                "    external_schema varchar(16) NULL,\r\n",
                "    is_production bit NOT NULL\r\n",
                ");\r\n",
                "\r\n",
                "INSERT INTO temp_source_system (\r\n",
                "\t  source_system_id\r\n",
                "\t, system_name\r\n",
                "\t, system_version\r\n",
                "\t, system_type\r\n",
                "\t, external_schema\r\n",
                "\t, is_production\r\n",
                ")\r\n",
                "VALUES\r\n",
                "\t(0, 'Unknown', NULL, NULL, NULL, '0'),\r\n",
                "\t(1, 'Astea', '5.5', 'ERP', 'astea5', '0'),\r\n",
                "\t(2, 'Astea', '14', 'ERP', 'astea14', '1'),\r\n",
                "\t(3, 'Salesforce', NULL, 'CRM', 'sf', '1');\r\n",
                "\r\n",
                "-- Update if existing\r\n",
                "UPDATE public.SourceSystem s\r\n",
                "SET system_name = t.system_name\r\n",
                "FROM temp_source_system t\r\n",
                "WHERE s.source_system_id = t.source_system_id AND s.system_name <> t.system_name;\r\n",
                "\r\n",
                "-- Insert if missing \r\n",
                "INSERT INTO public.SourceSystem (\r\n",
                "  \t  source_system_id\r\n",
                "\t, system_name\r\n",
                "\t, system_version\r\n",
                "\t, system_type\r\n",
                "\t, external_schema\r\n",
                "\t, is_production  \r\n",
                ")\r\n",
                "SELECT\r\n",
                "  \t  t.source_system_id\r\n",
                "\t, t.system_name\r\n",
                "\t, t.system_version\r\n",
                "\t, t.system_type\r\n",
                "\t, t.external_schema\r\n",
                "\t, t.is_production  \r\n",
                "    --, s.source_system_id\r\n",
                "FROM temp_source_system t\r\n",
                "    LEFT OUTER JOIN public.SourceSystem s ON t.source_system_id = s.source_system_id\r\n",
                "WHERE s.source_system_id IS NULL;"
            ],
            "metadata": {
                "azdata_cell_guid": "bb795ed3-d631-448b-8639-fe64e83e7df8"
            },
            "outputs": [],
            "execution_count": null
        },
        {
            "cell_type": "markdown",
            "source": [
                "Generate schemas that will be used by the data warehouse.\n",
                "\n",
                "1.  dwh - This schema will contain tables and stored procedures related to the core data warehouse\n",
                "2.  master - This schema will contain tables and stored procedures used for holding normalized master data\n",
                "3.  olap - This schema will contain views to expose data from the dwh and master schemas to Analysis Services\n",
                "4.  stage - This schema will contain tables used for storing data that needs to be staged before or during the ETL process.\n",
                "5.  Any schemas listed in the external\\_schema column in the \\[dbo\\].\\[SourceSystem\\] table."
            ],
            "metadata": {
                "azdata_cell_guid": "9f000ed7-d7e8-47f8-8d99-b579bf421d63"
            }
        },
        {
            "cell_type": "code",
            "source": [
                "-- Set up temp table\r\n",
                "DROP TABLE IF EXISTS temp_schemas;\r\n",
                "\r\n",
                "CREATE TEMPORARY TABLE temp_schemas\r\n",
                "(\r\n",
                "\tId INT GENERATED ALWAYS AS IDENTITY,\r\n",
                "    SchemaName VARCHAR(32)\r\n",
                ");\r\n",
                "\r\n",
                "-- Insert standard schemas\r\n",
                "INSERT INTO temp_schemas (SchemaName) VALUES ('dwh'); --Data Warehouse Schema\r\n",
                "INSERT INTO temp_schemas (SchemaName) VALUES ('master'); --Master table Schema\r\n",
                "INSERT INTO temp_schemas (SchemaName) VALUES ('olap'); --SSAS View Schema\r\n",
                "INSERT INTO temp_schemas (SchemaName) VALUES ('stage'); --Staging table Schema\r\n",
                "\r\n",
                "-- Insert schemas from SourceSystem table\r\n",
                "INSERT INTO temp_schemas (SchemaName)\r\n",
                "SELECT DISTINCT external_schema\r\n",
                "FROM public.SourceSystem\r\n",
                "WHERE external_schema NOT IN (\r\n",
                "    SELECT SchemaName FROM temp_schemas\r\n",
                ");\r\n",
                "\r\n",
                "-- Create schemas\r\n",
                "DO $$\r\n",
                "DECLARE\r\n",
                "    r RECORD;\r\n",
                "BEGIN\r\n",
                "    -- Loop through all records in temp_schemas\r\n",
                "    FOR r IN SELECT SchemaName FROM temp_schemas\r\n",
                "    LOOP\r\n",
                "        -- Create schema\r\n",
                "        EXECUTE format('CREATE SCHEMA %s', r.SchemaName);\r\n",
                "\r\n",
                "    END LOOP;\r\n",
                "END; $$"
            ],
            "metadata": {
                "azdata_cell_guid": "11c06916-ac6b-448d-b625-2019cdd946f9"
            },
            "outputs": [],
            "execution_count": null
        },
        {
            "cell_type": "markdown",
            "source": [
                "Create standard stored procedures for importing data."
            ],
            "metadata": {
                "azdata_cell_guid": "55577870-b765-4e10-8e72-64453d5183bd"
            }
        },
        {
            "cell_type": "code",
            "source": [
                "DO $$\r\n",
                "DECLARE\r\n",
                "    r RECORD;\r\n",
                "BEGIN\r\n",
                "    -- Loop through all records in temp_schemas\r\n",
                "    FOR r IN SELECT DISTINCT system_name FROM public.SourceSystem WHERE system_name <> 'Unknown'\r\n",
                "    LOOP\r\n",
                "        -- Create schema\r\n",
                "        EXECUTE format('CREATE PROCEDURE %s() \r\n",
                "        LANGUAGE SQL AS $BODY$  \r\n",
                "            --RAISE NOTICE \"Insert logic here\";\r\n",
                "        $BODY$', r.system_name);\r\n",
                "\r\n",
                "    END LOOP;\r\n",
                "END; $$"
            ],
            "metadata": {
                "azdata_cell_guid": "a5f89d12-977a-415d-8925-35ad23bd66d7"
            },
            "outputs": [],
            "execution_count": null
        },
        {
            "cell_type": "markdown",
            "source": [
                "Create store procedure for creating a master date table."
            ],
            "metadata": {
                "azdata_cell_guid": "0b009218-411c-42b9-9f4c-4ac9a0bd7323"
            }
        },
        {
            "cell_type": "code",
            "source": [
                "CREATE OR REPLACE FUNCTION create_calendar_table(startdate DATE, enddate DATE, fiscalstartdate DATE) \r\n",
                "RETURNS INTEGER AS $$ \r\n",
                "\r\n",
                "DECLARE \r\n",
                "    daydiff INTERVAL;\r\n",
                "    record_count INTEGER;\r\n",
                "BEGIN\r\n",
                "    -- Calculate date diff\r\n",
                "    daydiff:=make_interval(days => startdate - fiscalstartdate);\r\n",
                "    \r\n",
                "    -- Create Holiday Table if doesn't exist\r\n",
                "    CREATE TABLE IF NOT EXISTS master.Holiday (\r\n",
                "        holiday_id int PRIMARY KEY,\r\n",
                "        holiday_key char(18) NULL,\r\n",
                "        actual_date date NOT NULL,\r\n",
                "        observed_date date NOT NULL,\r\n",
                "        description varchar(32) NULL,\r\n",
                "        dwh_created_date timestamp NOT NULL,\r\n",
                "        dwh_modified_date timestamp NULL\r\n",
                "    );\r\n",
                "\r\n",
                "    -- Create the table\r\n",
                "    CREATE TABLE IF NOT EXISTS master.Calendar (\r\n",
                "        full_date date NOT NULL,\r\n",
                "        day_of_week int NOT NULL DEFAULT 0,\r\n",
                "        day_of_week_name varchar(10) NOT NULL DEFAULT '',\r\n",
                "        day_of_week_abbrev varchar(5) NOT NULL DEFAULT '',\r\n",
                "        day_of_month int NOT NULL DEFAULT 0,\r\n",
                "        day_of_quarter int NOT NULL DEFAULT 0,\r\n",
                "        day_of_year int NOT NULL DEFAULT 0,\r\n",
                "        week_of_year int NOT NULL DEFAULT 0,\r\n",
                "        month_of_year int NOT NULL DEFAULT 0,\r\n",
                "        month_name varchar(10) NOT NULL DEFAULT '',\r\n",
                "        month_name_abbrev varchar(5) NOT NULL DEFAULT '',\r\n",
                "        quarter_of_year int NOT NULL DEFAULT 0,\r\n",
                "        year int NOT NULL DEFAULT 0,\r\n",
                "        fiscal_day_of_month int NOT NULL DEFAULT 0,\r\n",
                "        fiscal_day_of_quarter int NOT NULL DEFAULT 0,\r\n",
                "        fiscal_day_of_year int NOT NULL DEFAULT 0,\r\n",
                "        fiscal_week_of_year int NOT NULL DEFAULT 0,\r\n",
                "        fiscal_month_of_year int NOT NULL DEFAULT 0,\r\n",
                "        fiscal_quarter_of_year int NOT NULL DEFAULT 0,\r\n",
                "        fiscal_year int NOT NULL DEFAULT 0,\r\n",
                "        is_business_day BOOLEAN NOT NULL DEFAULT FALSE,\r\n",
                "        is_weekday BOOLEAN NOT NULL DEFAULT FALSE,\r\n",
                "        is_holiday BOOLEAN NOT NULL DEFAULT FALSE,\r\n",
                "        YYYYMM char(6) NOT NULL DEFAULT '',\r\n",
                "        YYYYMMDD char(8) NOT NULL DEFAULT '',\r\n",
                "        YYYYQQ char(7) NOT NULL DEFAULT '',\r\n",
                "        YYYYFQ char(7) NOT NULL DEFAULT ''\r\n",
                "    );\r\n",
                "\r\n",
                "    -- Make sure table is clean\r\n",
                "    TRUNCATE TABLE master.Calendar;\r\n",
                "\r\n",
                "    -- Insert records into table\r\n",
                "    INSERT INTO master.Calendar (\r\n",
                "        full_date\r\n",
                "        , day_of_week\r\n",
                "        , day_of_week_name\r\n",
                "        , day_of_week_abbrev\r\n",
                "        , day_of_month\r\n",
                "        , day_of_quarter\r\n",
                "        , day_of_year\r\n",
                "        , week_of_year\r\n",
                "        , month_of_year\r\n",
                "        , month_name\r\n",
                "        , month_name_abbrev\r\n",
                "        , quarter_of_year\r\n",
                "        , year\r\n",
                "        , fiscal_day_of_month\r\n",
                "        , fiscal_day_of_quarter\r\n",
                "        , fiscal_day_of_year\r\n",
                "        , fiscal_week_of_year\r\n",
                "        , fiscal_month_of_year\r\n",
                "        , fiscal_quarter_of_year\r\n",
                "        , fiscal_year\r\n",
                "        , is_business_day\r\n",
                "        , is_weekday\r\n",
                "        , is_holiday\r\n",
                "        , YYYYMM\r\n",
                "        , YYYYMMDD\r\n",
                "        , YYYYQQ\r\n",
                "        , YYYYFQ\r\n",
                "    )\r\n",
                "    SELECT\r\n",
                "        CAST(generate_series AS date) AS full_date\r\n",
                "        , EXTRACT(DOW FROM generate_series)::INTEGER AS day_of_week\r\n",
                "        , to_char(generate_series, 'Day') AS day_of_week_name\r\n",
                "        , to_char(generate_series, 'Dy') AS day_of_week_abbrev\r\n",
                "        , EXTRACT(DAY FROM generate_series)::INTEGER AS day_of_month\r\n",
                "        , DATE_PART('day', generate_series - date_trunc('quarter', generate_series))::INTEGER + 1 AS day_of_quarter\r\n",
                "        , EXTRACT(DOY FROM generate_series)::INTEGER AS day_of_year\r\n",
                "        , EXTRACT(WEEK FROM generate_series)::INTEGER AS week_of_year\r\n",
                "        , EXTRACT(MONTH FROM generate_series)::INTEGER AS month_of_year\r\n",
                "        , to_char(generate_series, 'Month') AS month_name\r\n",
                "        , to_char(generate_series, 'Mon') AS month_name_abbrev\r\n",
                "        , EXTRACT(QUARTER FROM generate_series)::INTEGER AS quarter_of_year\r\n",
                "        , EXTRACT(YEAR FROM generate_series)::INTEGER AS year\r\n",
                "        , EXTRACT(DAY FROM generate_series + daydiff)::INTEGER AS fiscal_day_of_month\r\n",
                "        , DATE_PART('day', generate_series + daydiff - date_trunc('quarter', generate_series + daydiff))::INTEGER + 1 AS fiscal_day_of_quarter\r\n",
                "        , EXTRACT(DOY FROM generate_series + daydiff)::INTEGER AS fiscal_day_of_year\r\n",
                "        , EXTRACT(WEEK FROM generate_series + daydiff)::INTEGER AS fiscal_week_of_year\r\n",
                "        , EXTRACT(MONTH FROM generate_series + daydiff)::INTEGER AS fiscal_month_of_year\r\n",
                "        , EXTRACT(QUARTER FROM generate_series + daydiff)::INTEGER AS fiscal_quarter_of_year\r\n",
                "        , EXTRACT(YEAR FROM generate_series + daydiff)::INTEGER AS fiscal_year\r\n",
                "        , CASE WHEN EXTRACT(DOW FROM generate_series)::INTEGER IN (0, 6) OR h.holiday_id IS NOT NULL THEN FALSE ELSE TRUE END AS is_business_day\r\n",
                "        , CASE WHEN EXTRACT(DOW FROM generate_series)::INTEGER IN (0, 6) THEN FALSE ELSE TRUE END AS is_weekday\r\n",
                "        , CASE WHEN h.holiday_id IS NULL THEN FALSE ELSE TRUE END AS is_holiday\r\n",
                "        , to_char(generate_series, 'YYYYMM') AS YYYYMM\r\n",
                "        , to_char(generate_series, 'YYYYMMDD') AS YYYYMMDD\r\n",
                "        , to_char(generate_series, 'YYYY0Q') AS YYYYQQ\r\n",
                "        , to_char(generate_series, 'YYYY0Q') AS YYYYFQ\r\n",
                "    FROM (\r\n",
                "        SELECT generate_series(\r\n",
                "            startdate::timestamp,\r\n",
                "            enddate::timestamp,\r\n",
                "            interval '1 days'\r\n",
                "        )\r\n",
                "    ) a\r\n",
                "        LEFT OUTER JOIN master.Holiday h ON a.generate_series = h.observed_date;\r\n",
                "\r\n",
                "    SELECT COUNT(*) INTO record_count FROM master.Calendar;\r\n",
                "\r\n",
                "    RETURN record_count;\r\n",
                "\r\n",
                "END $$ LANGUAGE plpgsql;"
            ],
            "metadata": {
                "azdata_cell_guid": "d69fd71a-916f-493e-b30e-5e74b0c9da43"
            },
            "outputs": [],
            "execution_count": null
        },
        {
            "cell_type": "markdown",
            "source": [
                "Run the stored procedure to create the new master.Calendar table."
            ],
            "metadata": {
                "azdata_cell_guid": "01a2d1ce-0169-4e43-b6e7-6a54dde825d2"
            }
        },
        {
            "cell_type": "code",
            "source": [
                "SELECT create_calendar_table(startdate := (date '2017-01-01'), enddate := (date '2017-12-31'), fiscalstartdate := (date '2016-09-01'));"
            ],
            "metadata": {
                "azdata_cell_guid": "d2b914b0-a4b0-4112-9700-a581cdc11551"
            },
            "outputs": [],
            "execution_count": null
        }
    ]
}