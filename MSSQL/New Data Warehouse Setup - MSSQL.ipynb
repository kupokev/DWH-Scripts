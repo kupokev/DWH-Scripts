{
    "metadata": {
        "kernelspec": {
            "name": "SQL",
            "display_name": "SQL",
            "language": "sql"
        },
        "language_info": {
            "name": "sql",
            "version": ""
        }
    },
    "nbformat_minor": 2,
    "nbformat": 4,
    "cells": [
        {
            "cell_type": "markdown",
            "source": [
                "Initialize the source system table."
            ],
            "metadata": {
                "azdata_cell_guid": "f08ce755-891f-4fea-947c-dcc03b18522f"
            }
        },
        {
            "cell_type": "code",
            "source": [
                "IF (NOT EXISTS (SELECT * FROM INFORMATION_SCHEMA.TABLES WHERE TABLE_SCHEMA = 'dbo' AND  TABLE_NAME = 'SourceSystem'))\r\n",
                "BEGIN\r\n",
                "\tCREATE TABLE [dbo].[SourceSystem] (\r\n",
                "\t\t[source_system_id] [int] NOT NULL,\r\n",
                "\t\t[system_name] [nvarchar](32) NULL,\r\n",
                "\t\t[system_version] [nvarchar](16) NULL,\r\n",
                "\t\t[system_type] [nvarchar](32) NULL,\r\n",
                "\t\t[external_schema] [nvarchar](16) NULL,\r\n",
                "\t\t[is_production] [bit] NOT NULL,\r\n",
                "\t\tCONSTRAINT [PK_SourceSystem] PRIMARY KEY CLUSTERED (\r\n",
                "\t\t\t[source_system_id] ASC\r\n",
                "\t\t) WITH (\r\n",
                "\t\t\tPAD_INDEX = OFF, STATISTICS_NORECOMPUTE = OFF, IGNORE_DUP_KEY = OFF, ALLOW_ROW_LOCKS = ON, ALLOW_PAGE_LOCKS = ON) ON [PRIMARY]\r\n",
                "\t\t) ON [PRIMARY];\r\n",
                "END\r\n",
                "\r\n",
                "-- Set up temp table\r\n",
                "IF OBJECT_ID('tempdb..#SourceDatabases') IS NOT NULL\r\n",
                "\tDROP TABLE #SourceDatabases;\r\n",
                "\r\n",
                "SELECT TOP(0) *\r\n",
                "INTO #SourceDatabases \r\n",
                "FROM [dbo].[SourceSystem];\r\n",
                "\r\n",
                "-- Add table info\r\n",
                "INSERT INTO #SourceDatabases (\r\n",
                "\t  source_system_id\r\n",
                "\t, system_name\r\n",
                "\t, system_version\r\n",
                "\t, system_type\r\n",
                "\t, external_schema\r\n",
                "\t, is_production\r\n",
                ")\r\n",
                "VALUES\r\n",
                "\t(0, 'Unknown', NULL, NULL, NULL, 0),\r\n",
                "\t(1, 'Astea', '5.5', 'ERP', 'astea5', 0),\r\n",
                "\t(2, 'Astea', '14', 'ERP', 'astea14', 1),\r\n",
                "\t(3, 'Salesforce', NULL, 'CRM', 'sf', 1);\r\n",
                "\r\n",
                "-- Load Data\r\n",
                "MERGE [dbo].[SourceSystem] AS target\r\n",
                "USING (\r\n",
                "\tSELECT \r\n",
                "\t\t  source_system_id\r\n",
                "\t\t, system_name\r\n",
                "\t\t, system_version\r\n",
                "\t\t, system_type\r\n",
                "\t\t, external_schema\r\n",
                "\t\t, is_production\r\n",
                "\tFROM #SourceDatabases\r\n",
                ") AS source\r\n",
                "ON (target.source_system_id = source.source_system_id)\r\n",
                "WHEN MATCHED THEN\r\n",
                "\tUPDATE SET \r\n",
                "\t\t  target.system_name = source.system_name\r\n",
                "\t\t, target.system_version = source.system_version\r\n",
                "\t\t, target.system_type = source.system_type\r\n",
                "\t\t, target.external_schema = source.external_schema\r\n",
                "\t\t, target.is_production = source.is_production\r\n",
                "WHEN NOT MATCHED THEN\r\n",
                "\tINSERT (\r\n",
                "\t\t  source_system_id\r\n",
                "\t\t, system_name\r\n",
                "\t\t, system_version\r\n",
                "\t\t, system_type\r\n",
                "\t\t, external_schema\r\n",
                "\t\t, is_production\r\n",
                "\t)\r\n",
                "\tVALUES (\r\n",
                "\t\t  source.source_system_id\r\n",
                "\t\t, source.system_name\r\n",
                "\t\t, source.system_version\r\n",
                "\t\t, source.system_type\r\n",
                "\t\t, source.external_schema\r\n",
                "\t\t, source.is_production\r\n",
                "\t);"
            ],
            "metadata": {
                "azdata_cell_guid": "58adddd0-87d6-49ee-b937-43d5b494cc47"
            },
            "outputs": [],
            "execution_count": null
        },
        {
            "cell_type": "markdown",
            "source": [
                "Generate schemas that will be used by the data warehouse.\r\n",
                "\r\n",
                "1. dwh - This schema will contain tables and stored procedures related to the core data warehouse\r\n",
                "2. master - This schema will contain tables and stored procedures used for holding normalized master data \r\n",
                "3. olap - This schema will contain views to expose data from the dwh and master schemas to Analysis Services\r\n",
                "4. stage - This schema will contain tables used for storing data that needs to be staged before or during the ETL process.\r\n",
                "5. Any schemas listed in the external_schema column in the [dbo].[SourceSystem] table."
            ],
            "metadata": {
                "azdata_cell_guid": "608bbd80-4e6c-4893-a68d-677cf07e9463"
            }
        },
        {
            "cell_type": "code",
            "source": [
                "-- Set up temp table\r\n",
                "IF OBJECT_ID('tempdb..#Temp') IS NOT NULL\r\n",
                "\tDROP TABLE #Temp;\r\n",
                "GO\r\n",
                "\r\n",
                "CREATE TABLE #Temp\r\n",
                "(\r\n",
                "\tId INT IDENTITY(1,1),\r\n",
                "    SchemaName VARCHAR(32)\r\n",
                ");\r\n",
                "GO\r\n",
                "\r\n",
                "-- Insert standard schemas\r\n",
                "INSERT INTO #Temp (SchemaName) VALUES ('dwh'); --Data Warehouse Schema\r\n",
                "INSERT INTO #Temp (SchemaName) VALUES ('master'); --Master table Schema\r\n",
                "INSERT INTO #Temp (SchemaName) VALUES ('olap'); --SSAS View Schema\r\n",
                "INSERT INTO #Temp (SchemaName) VALUES ('stage'); --Staging table Schema\r\n",
                "\r\n",
                "-- Insert schemas from SourceSystem table\r\n",
                "INSERT INTO #Temp (SchemaName)\r\n",
                "SELECT DISTINCT external_schema\r\n",
                "FROM [dbo].[SourceSystem];\r\n",
                "\r\n",
                "-- Create schemas\r\n",
                "DECLARE @counter INT = 1;\r\n",
                "DECLARE @SchemaName VARCHAR(32) = 'dwh';\r\n",
                "DECLARE @Sql NVARCHAR(128);\r\n",
                "\r\n",
                "WHILE @counter <= (SELECT COUNT(1) FROM #Temp)\r\n",
                "BEGIN\r\n",
                "\tSET @SchemaName = (SELECT SchemaName FROM #Temp WHERE Id = @counter);\r\n",
                "\tSET @counter = @counter + 1;\r\n",
                "\tSET @Sql = N'CREATE SCHEMA ' + @SchemaName;\r\n",
                "\r\n",
                "\tIF NOT EXISTS (\r\n",
                "\t\tSELECT  schema_name\r\n",
                "\t\tFROM    information_schema.schemata\r\n",
                "\t\tWHERE   schema_name = @SchemaName \r\n",
                "\t) \r\n",
                "\tBEGIN\r\n",
                "\tEXEC sp_executesql @Sql --ARCHIVE is the schema I want to create\r\n",
                "\tEND\r\n",
                "END\r\n",
                "GO"
            ],
            "metadata": {
                "azdata_cell_guid": "7c58b84a-7d8f-4ca1-81bd-b79879422b66"
            },
            "outputs": [
                {
                    "output_type": "display_data",
                    "data": {
                        "text/html": "Commands completed successfully."
                    },
                    "metadata": {}
                },
                {
                    "output_type": "display_data",
                    "data": {
                        "text/html": "Commands completed successfully."
                    },
                    "metadata": {}
                },
                {
                    "output_type": "display_data",
                    "data": {
                        "text/html": "(1 row affected)"
                    },
                    "metadata": {}
                },
                {
                    "output_type": "display_data",
                    "data": {
                        "text/html": "(1 row affected)"
                    },
                    "metadata": {}
                },
                {
                    "output_type": "display_data",
                    "data": {
                        "text/html": "(1 row affected)"
                    },
                    "metadata": {}
                },
                {
                    "output_type": "display_data",
                    "data": {
                        "text/html": "(1 row affected)"
                    },
                    "metadata": {}
                },
                {
                    "output_type": "display_data",
                    "data": {
                        "text/html": "(4 rows affected)"
                    },
                    "metadata": {}
                },
                {
                    "output_type": "display_data",
                    "data": {
                        "text/html": "Total execution time: 00:00:00.176"
                    },
                    "metadata": {}
                }
            ],
            "execution_count": 3
        },
        {
            "cell_type": "markdown",
            "source": [
                "Create standard stored procedures for importing data."
            ],
            "metadata": {
                "azdata_cell_guid": "b69b00e8-907d-4ea6-837f-bb00183f716e"
            }
        },
        {
            "cell_type": "code",
            "source": [
                "DECLARE @Counter INT = 1;\r\n",
                "DECLARE @SystemName VARCHAR(32);\r\n",
                "DECLARE @ProcName AS NVARCHAR(MAX);\r\n",
                "DECLARE @Sql AS varchar(MAX);\r\n",
                "\r\n",
                "WHILE @counter <= (SELECT COUNT(1) FROM [dbo].[SourceSystem] WHERE source_system_id > 0)\r\n",
                "BEGIN\r\n",
                "\tSET @SystemName = (SELECT system_name FROM [dbo].[SourceSystem] WHERE source_system_id = @counter);\r\n",
                "\tSET @counter = @counter + 1;\r\n",
                "\tSET @ProcName = '[dwh].[Import_' + REPLACE(@SystemName, ' ', '_') + ']';\r\n",
                "\r\n",
                "\tSET @Sql = \r\n",
                "\t'\r\n",
                "\tCREATE PROCEDURE ' + @ProcName + '\r\n",
                "\tAS \r\n",
                "\tBEGIN\r\n",
                "\t\tSET NOCOUNT ON;\r\n",
                "\r\n",
                "\t\t--INSERT CODE HERE\r\n",
                "\tEND';\r\n",
                "\r\n",
                "\tIF NOT EXISTS ( \r\n",
                "\t\tSELECT * \r\n",
                "\t\tFROM   sysobjects \r\n",
                "\t\tWHERE  id = object_id(@ProcName) and OBJECTPROPERTY(id, N'IsProcedure') = 1 \r\n",
                "\t)\r\n",
                "\tBEGIN\r\n",
                "\t\tEXEC(@Sql);\r\n",
                "\tEND\r\n",
                "END\r\n",
                "GO"
            ],
            "metadata": {
                "azdata_cell_guid": "c1173477-b898-4124-b425-0f0847b02ea8"
            },
            "outputs": [],
            "execution_count": null
        },
        {
            "cell_type": "markdown",
            "source": [
                "Create store procedure for creating a master date table."
            ],
            "metadata": {
                "azdata_cell_guid": "0641fc99-f909-4d39-972c-e2eb52e60e52"
            }
        },
        {
            "cell_type": "code",
            "source": [
                "CREATE OR ALTER PROCEDURE [master].[Initialize_DateTable]\r\n",
                "AS\r\n",
                "BEGIN\r\n",
                "\tSET NOCOUNT ON;\r\n",
                "\r\n",
                "\t-- Set variables\r\n",
                "\tDECLARE @StartDate DATE  = '2011-01-01'; -- Start-date\r\n",
                "\tDECLARE @EndDate DATE =  CAST(YEAR(GETDATE()) + 2 AS CHAR(4)) + '-01-01'; -- End-Date\r\n",
                "\t   \r\n",
                "\tDECLARE @DefaultDate DATE = '1900-01-01';\r\n",
                "\tDECLARE @CurrentDate DATE;\r\n",
                "\r\n",
                "\tDECLARE @FiscalStartDate DATE = '2010-09-01';\r\n",
                "\tDECLARE @FiscalDifference INT = DATEDIFF(m, @FiscalStartDate, @StartDate);\r\n",
                "\r\n",
                "\tIF NOT EXISTS (SELECT * FROM sysobjects WHERE name= N'Holiday' AND XTYPE='U')\r\n",
                "\tBEGIN\r\n",
                "\t\tCREATE TABLE [master].[Holiday](\r\n",
                "\t\t\t[holiday_key] [nchar](18) NOT NULL,\r\n",
                "\t\t\t[actual_date] [datetime] NOT NULL,\r\n",
                "\t\t\t[observed_date] [datetime] NOT NULL,\r\n",
                "\t\t\t[description] [nvarchar](32) NULL,\r\n",
                "\t\t\t[created_date] [datetime] NOT NULL,\r\n",
                "\t\t\t[modified_date] [datetime] NULL,\r\n",
                "\t\t\tCONSTRAINT [PK_master_holiday] PRIMARY KEY CLUSTERED ([holiday_key] ASC)\r\n",
                "\t\t);\r\n",
                "\tEND\r\n",
                "\r\n",
                "\t-- Drop table if it already exists\r\n",
                "    IF EXISTS (SELECT * FROM sysobjects WHERE name= N'Date' AND XTYPE='U')\r\n",
                "\t\tDROP TABLE [master].[Date];\r\n",
                "\r\n",
                "\t-- Create new table\r\n",
                "\tCREATE TABLE [master].[Date](\r\n",
                "\t\t[FullDate] [date] NOT NULL,\r\n",
                "\t\t[DayOfWeek] [int] NOT NULL CONSTRAINT DF_Date_DayOfWeek DEFAULT 0,\r\n",
                "\t\t[DayOfWeekName] [varchar](10) NOT NULL CONSTRAINT DF_Date_DayOfWeekName DEFAULT '',\r\n",
                "\t\t[DayOfWeekAbbrev] [varchar](5) NOT NULL CONSTRAINT DF_Date_DayOfWeekAbbrev DEFAULT '',\r\n",
                "\t\t[DayOfMonth] [int] NOT NULL CONSTRAINT DF_Date_DayOfMonth DEFAULT 0,\r\n",
                "\t\t[DayOfQuarter] [int] NOT NULL CONSTRAINT DF_Date_DayOfQuarter DEFAULT 0,\r\n",
                "\t\t[DayOfYear] [int] NOT NULL CONSTRAINT DF_Date_DayOfYear DEFAULT 0,\r\n",
                "\t\t[WeekOfYear] [int] NOT NULL CONSTRAINT DF_Date_WeekOfYear DEFAULT 0,\r\n",
                "\t\t[MonthOfYear] [int] NOT NULL CONSTRAINT DF_Date_MonthOfYear DEFAULT 0,\r\n",
                "\t\t[MonthName] [varchar](10) NOT NULL CONSTRAINT DF_Date_MonthName DEFAULT '',\r\n",
                "\t\t[MonthNameAbbrev] [varchar](5) NOT NULL CONSTRAINT DF_Date_MonthNameAbbrev DEFAULT '',\r\n",
                "\t\t[QuarterOfYear] [int] NOT NULL CONSTRAINT DF_Date_QuarterOfYear DEFAULT 0,\r\n",
                "\t\t[Year] [int] NOT NULL CONSTRAINT DF_Date_Year DEFAULT 0,\r\n",
                "\t\t[FiscalDayOfMonth] [int] NOT NULL CONSTRAINT DF_Date_FiscalDayOfMonth DEFAULT 0,\r\n",
                "\t\t[FiscalDayOfQuarter] [int] NOT NULL CONSTRAINT DF_Date_FiscalDayOfQuarter DEFAULT 0,\r\n",
                "\t\t[FiscalDayOfYear] [int] NOT NULL CONSTRAINT DF_Date_FiscalDayOfYear DEFAULT 0,\r\n",
                "\t\t[FiscalWeekOfYear] [int] NOT NULL CONSTRAINT DF_Date_FiscalWeekOfYear DEFAULT 0,\r\n",
                "\t\t[FiscalMonthOfYear] [int] NOT NULL CONSTRAINT DF_Date_FiscalMonthOfYear DEFAULT 0,\r\n",
                "\t\t[FiscalQuarterOfYear] [int] NOT NULL CONSTRAINT DF_Date_FiscalQuarterOfYear DEFAULT 0,\r\n",
                "\t\t[FiscalYear] [int] NOT NULL CONSTRAINT DF_Date_FiscalYear DEFAULT 0,\r\n",
                "\t\t[IsBusinessDay] [bit] NOT NULL CONSTRAINT DF_Date_IsBusinessDay DEFAULT 0,\r\n",
                "\t\t[IsWeekday] [bit] NOT NULL CONSTRAINT DF_Date_IsWeekday DEFAULT 0,\r\n",
                "\t\t[IsHoliday] [bit] NOT NULL CONSTRAINT DF_Date_IsHoliday DEFAULT 0,\r\n",
                "\t\t[YYYYMM] [char](6) NOT NULL CONSTRAINT DF_Date_YYYYMM DEFAULT '',\r\n",
                "\t\t[YYYYMMDD] [char](8) NOT NULL CONSTRAINT DF_Date_YYYYMMDD DEFAULT '',\r\n",
                "\t\t[MMMYYYY] [char](9) NOT NULL CONSTRAINT DF_Date_MMMYYYY DEFAULT '',\r\n",
                "\t\t[MMYYYY] [char](7) NOT NULL CONSTRAINT DF_Date_MMYYYY DEFAULT '',\r\n",
                "\t\t[YYYYQQ] [char](7) NOT NULL CONSTRAINT DF_Date_YYYYQQ DEFAULT '',\r\n",
                "\t\t[YYYYFQ] [char](7) NOT NULL CONSTRAINT DF_Date_YYYYFQ DEFAULT '',\r\n",
                "\t\tCONSTRAINT [PK_master_date] PRIMARY KEY CLUSTERED ([FullDate] ASC)\r\n",
                "\t);\r\n",
                "\r\n",
                "\t-- Add default date \r\n",
                "\tINSERT INTO [master].[Date] ([FullDate], [YYYYMM], [YYYYMMDD], [MMMYYYY], [MMYYYY], [YYYYQQ], [YYYYFQ])\r\n",
                "\tVALUES (@DefaultDate, '', '', '', '', '', '');\r\n",
                "\r\n",
                "\t-- Build new date table data\r\n",
                "\tINSERT INTO [master].[Date] (\r\n",
                "\t\t  [FullDate]\r\n",
                "\t\t, [DayOfWeek]\r\n",
                "\t\t, [DayOfWeekName]\r\n",
                "\t\t, [DayOfWeekAbbrev]\r\n",
                "\t\t, [DayOfMonth]\r\n",
                "\t\t, [DayOfQuarter]\r\n",
                "\t\t, [DayOfYear]\r\n",
                "\t\t, [WeekOfYear]\r\n",
                "\t\t, [MonthOfYear]\r\n",
                "\t\t, [MonthName]\r\n",
                "\t\t, [MonthNameAbbrev]\r\n",
                "\t\t, [QuarterOfYear]\r\n",
                "\t\t, [Year]\r\n",
                "\t\t, [FiscalDayOfMonth]\r\n",
                "\t\t, [FiscalDayOfQuarter]\r\n",
                "\t\t, [FiscalDayOfYear]\r\n",
                "\t\t, [FiscalWeekOfYear]\r\n",
                "\t\t, [FiscalMonthOfYear]\r\n",
                "\t\t, [FiscalQuarterOfYear]\r\n",
                "\t\t, [FiscalYear]\r\n",
                "\t\t, [IsBusinessDay]\r\n",
                "\t\t, [IsWeekday]\r\n",
                "\t\t, [IsHoliday]\r\n",
                "\t\t, [YYYYMM]\r\n",
                "\t\t, [YYYYMMDD]\r\n",
                "\t\t, [MMMYYYY]\r\n",
                "\t\t, [MMYYYY]\r\n",
                "\t\t, [YYYYQQ]\r\n",
                "\t\t, [YYYYFQ]\r\n",
                "\t)\r\n",
                "\t\tSELECT\r\n",
                "\t\t  a.CurrDate AS [FullDate]\r\n",
                "\t\t, DATEPART(DW, a.CurrDate) AS [DayOfWeek]\r\n",
                "\t\t, DATENAME(DW, a.CurrDate) AS [DayOfWeekName]\r\n",
                "\t\t, CASE WHEN DATEPART(DW, a.CurrDate) IN (3, 5) THEN LEFT(DATENAME(DW, a.CurrDate), 4)\r\n",
                "\t\t\tELSE LEFT(DATENAME(DW, a.CurrDate), 3)\r\n",
                "\t\t\tEND AS [DayOfWeekAbbrev]\r\n",
                "\t\t, DATEPART(DD, a.CurrDate) AS [DayOfMonth]\r\n",
                "\t\t, DATEDIFF(DD,\r\n",
                "\t\t\tDATEADD(qq, DATEDIFF(qq, 0, a.CurrDate), 0),\r\n",
                "\t\t\ta.CurrDate) + 1\r\n",
                "\t\t\tAS [DayOfQuarter]\r\n",
                "\t\t, DATEPART(DY, a.CurrDate) AS [DayOfYear]\r\n",
                "\t\t, DATEPART(WW, a.CurrDate) AS [WeekOfYear]\r\n",
                "\t\t, DATEPART(MM, a.CurrDate) AS [MonthOfYear]\r\n",
                "\t\t, DATENAME(MM, a.CurrDate) AS [MonthName]\r\n",
                "\t\t, CASE WHEN DATEPART(MM, a.CurrDate) = 9 THEN LEFT(DATENAME(MM, a.CurrDate), 4)\r\n",
                "\t\t\tELSE LEFT(DATENAME(MM, a.CurrDate), 3)\r\n",
                "\t\t\tEND AS [MonthNameAbbrev]\r\n",
                "\t\t, DATEPART(QQ, a.CurrDate) AS [QuarterOfYear]\r\n",
                "\t\t, DATEPART(YY, a.CurrDate) AS [Year]\r\n",
                "\t\t, DATEPART(DD, DATEADD(m, @FiscalDifference, a.CurrDate)) AS [FiscalDayOfMonth]\r\n",
                "\t\t, DATEDIFF(DD,\r\n",
                "\t\t\tDATEADD(qq, DATEDIFF(qq, 0, DATEADD(m, @FiscalDifference, a.CurrDate)), 0),\r\n",
                "\t\t\tDATEADD(m, @FiscalDifference, a.CurrDate)) + 1\r\n",
                "\t\t\tAS [FiscalDayOfQuarter]\r\n",
                "\t\t, DATEPART(DY, DATEADD(m, @FiscalDifference, a.CurrDate)) AS [FiscalDayOfYear]\r\n",
                "\t\t, DATEPART(WW, DATEADD(m, @FiscalDifference, a.CurrDate)) AS [FiscalWeekOfYear]\r\n",
                "\t\t, DATEPART(MM, DATEADD(m, @FiscalDifference, a.CurrDate)) AS [FiscalMonthOfYear]\r\n",
                "\t\t, DATEPART(QQ, DATEADD(m, @FiscalDifference, a.CurrDate)) AS [FiscalQuarterOfYear]\r\n",
                "\t\t, DATEPART(YY, DATEADD(m, @FiscalDifference, a.CurrDate)) AS [FiscalYear]\r\n",
                "\t\t, CASE WHEN DATEPART(DW, a.CurrDate) = 1 OR DATEPART(DW, a.CurrDate) = 7 OR h.[holiday_key] IS NOT NULL THEN 0\r\n",
                "\t\t\tELSE 1\r\n",
                "\t\t\tEND AS [IsBusinessDay]\r\n",
                "\t\t, CASE WHEN DATEPART(DW, a.CurrDate) = 1 OR DATEPART(DW, a.CurrDate) = 7 THEN 0\r\n",
                "\t\t\tELSE 1\r\n",
                "\t\t\tEND AS [IsWeekday]\r\n",
                "\t\t, CASE WHEN h.[holiday_key] IS NULL THEN 0\r\n",
                "\t\t\tELSE 1\r\n",
                "\t\t\tEND AS [IsHoliday]\r\n",
                "\t\t, LEFT(CONVERT(VARCHAR, a.CurrDate, 112), 6) AS [YYYYMM]\r\n",
                "\t\t, CONVERT(VARCHAR, a.CurrDate, 112) AS [YYYYMMDD]\r\n",
                "\t\t, CASE WHEN DATEPART(MM, a.CurrDate) = 9 THEN LEFT(DATENAME(MM, a.CurrDate), 4) ELSE LEFT(DATENAME(MM, a.CurrDate), 3) END + ' ' + CAST(DATEPART(YY, a.CurrDate) AS char(4)) AS [MMMYYYY]\r\n",
                "\t\t, CASE WHEN MONTH(a.CurrDate) < 10 THEN '0' ELSE '' END + CAST(DATEPART(MM, a.CurrDate) AS varchar(4)) + '-' + CAST(DATEPART(YY, a.CurrDate) AS char(4)) AS [MMYYYY]\r\n",
                "\t\t, CAST(DATEPART(YY, a.CurrDate) AS char(4)) + '/Q' + CAST(DATEPART(QQ, a.CurrDate) AS char(1)) AS [YYYYQQ]\r\n",
                "\t\t, CAST(DATEPART(YY, DATEADD(m, @FiscalDifference, a.CurrDate)) AS char(4)) + '/Q' + CAST(DATEPART(QQ, DATEADD(m, @FiscalDifference, a.CurrDate)) AS char(1)) AS [YYYYFQ]\r\n",
                "\tFROM (\r\n",
                "\t\tSELECT CurrDate = CAST(DATEADD(DAY, rn - 1, @StartDate) AS DATE)\r\n",
                "\t\tFROM (\r\n",
                "\t\t\tSELECT TOP (DATEDIFF(DAY, @StartDate, @EndDate)) rn = ROW_NUMBER() OVER (ORDER BY s1.[object_id])\r\n",
                "\t\t\tFROM sys.all_objects AS s1\r\n",
                "\t\t\t\tCROSS JOIN sys.all_objects AS s2\r\n",
                "\t\t    ORDER BY s1.[object_id]) AS x\r\n",
                "\t) a\r\n",
                "\t\tLEFT OUTER JOIN [master].[Holiday] h ON a.CurrDate = h.observed_date;\r\n",
                "\r\n",
                "END\r\n",
                "GO"
            ],
            "metadata": {
                "azdata_cell_guid": "67734d55-00f2-4aef-a271-479671832299"
            },
            "outputs": [
                {
                    "output_type": "display_data",
                    "data": {
                        "text/html": "Commands completed successfully."
                    },
                    "metadata": {}
                },
                {
                    "output_type": "display_data",
                    "data": {
                        "text/html": "Total execution time: 00:00:00.065"
                    },
                    "metadata": {}
                }
            ],
            "execution_count": 13
        },
        {
            "cell_type": "markdown",
            "source": [
                "Run the stored procedure to create the new DateTable."
            ],
            "metadata": {
                "azdata_cell_guid": "8ac348d6-1380-474c-b9db-859f21bd9938"
            }
        },
        {
            "cell_type": "code",
            "source": [
                "EXEC [master].[Initialize_DateTable];\r\n",
                "GO"
            ],
            "metadata": {
                "azdata_cell_guid": "559d4827-0413-40ac-b37c-a70b900495ee"
            },
            "outputs": [
                {
                    "output_type": "display_data",
                    "data": {
                        "text/html": "Commands completed successfully."
                    },
                    "metadata": {}
                },
                {
                    "output_type": "display_data",
                    "data": {
                        "text/html": "Total execution time: 00:00:00.496"
                    },
                    "metadata": {}
                }
            ],
            "execution_count": 14
        },
        {
            "cell_type": "markdown",
            "source": [
                "Create stored procedure to call for importing data from the data warehouse layer to the master layer."
            ],
            "metadata": {
                "azdata_cell_guid": "551811ee-e728-4e41-a331-a2bb4c5d85ab"
            }
        },
        {
            "cell_type": "code",
            "source": [
                "DECLARE @ProcName AS NVARCHAR(MAX);\r\n",
                "DECLARE @Sql AS varchar(MAX);\r\n",
                "\r\n",
                "SET @ProcName = '[master].[Import_Warehouse]';\r\n",
                "\r\n",
                "SET @Sql = \r\n",
                "'\r\n",
                "CREATE PROCEDURE ' + @ProcName + '\r\n",
                "AS \r\n",
                "BEGIN\r\n",
                "\tSET NOCOUNT ON;\r\n",
                "\r\n",
                "\t--INSERT CODE HERE\r\n",
                "END';\r\n",
                "\r\n",
                "IF NOT EXISTS ( \r\n",
                "\tSELECT * \r\n",
                "\tFROM   sysobjects \r\n",
                "\tWHERE  id = object_id(@ProcName) and OBJECTPROPERTY(id, N'IsProcedure') = 1 \r\n",
                ")\r\n",
                "BEGIN\r\n",
                "\tEXEC(@Sql);\r\n",
                "END"
            ],
            "metadata": {
                "azdata_cell_guid": "2568d699-9c33-4a0f-b349-e0edefba0098"
            },
            "outputs": [],
            "execution_count": null
        },
        {
            "cell_type": "markdown",
            "source": [
                "Create stored procedure used for normalizing data."
            ],
            "metadata": {
                "azdata_cell_guid": "4be3a7b4-aa2d-4054-a55a-089271e42ec1"
            }
        },
        {
            "cell_type": "code",
            "source": [
                "DECLARE @ProcName AS NVARCHAR(MAX);\r\n",
                "DECLARE @Sql AS varchar(MAX);\r\n",
                "\r\n",
                "SET @ProcName = '[dwh].[Normalize_Data]';\r\n",
                "\r\n",
                "SET @Sql = \r\n",
                "'\r\n",
                "CREATE PROCEDURE ' + @ProcName + '\r\n",
                "AS \r\n",
                "BEGIN\r\n",
                "\tSET NOCOUNT ON;\r\n",
                "\r\n",
                "\t--INSERT CODE HERE\r\n",
                "END';\r\n",
                "\r\n",
                "IF NOT EXISTS ( \r\n",
                "\tSELECT * \r\n",
                "\tFROM   sysobjects \r\n",
                "\tWHERE  id = object_id(@ProcName) and OBJECTPROPERTY(id, N'IsProcedure') = 1 \r\n",
                ")\r\n",
                "BEGIN\r\n",
                "\tEXEC(@Sql);\r\n",
                "END"
            ],
            "metadata": {
                "azdata_cell_guid": "2ca32106-3841-4d92-910e-1372970906e8"
            },
            "outputs": [
                {
                    "output_type": "display_data",
                    "data": {
                        "text/html": "Commands completed successfully."
                    },
                    "metadata": {}
                },
                {
                    "output_type": "display_data",
                    "data": {
                        "text/html": "Total execution time: 00:00:00.007"
                    },
                    "metadata": {}
                }
            ],
            "execution_count": 1
        }
    ]
}