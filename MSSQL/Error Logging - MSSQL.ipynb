{
    "metadata": {
        "kernelspec": {
            "name": "SQL",
            "display_name": "SQL",
            "language": "sql"
        },
        "language_info": {
            "name": "sql",
            "version": ""
        }
    },
    "nbformat_minor": 2,
    "nbformat": 4,
    "cells": [
        {
            "cell_type": "markdown",
            "source": [
                "# Error Logging\n",
                "\n",
                "Create ETL Log table"
            ],
            "metadata": {
                "azdata_cell_guid": "2ce7601b-2656-4013-9b8e-72e880a4230a"
            }
        },
        {
            "cell_type": "code",
            "source": [
                "-- ETL Batch table\r\n",
                "IF NOT EXISTS (SELECT * FROM sysobjects WHERE name= N'EtlBatch' AND XTYPE='U')\r\n",
                "BEGIN\r\n",
                "    CREATE TABLE [dbo].[EtlBatch] (\r\n",
                "        [batchId] [uniqueidentifier] NOT NULL,\r\n",
                "        [batchStart] [datetime] NOT NULL\r\n",
                "    );\r\n",
                "END\r\n",
                "\r\n",
                "-- ETL Log table\r\n",
                "IF NOT EXISTS (SELECT * FROM sysobjects WHERE name= N'EtlLog' AND XTYPE='U')\r\n",
                "BEGIN\r\n",
                "    CREATE TABLE [dbo].[EtlLog] (\r\n",
                "        [logId] [int] IDENTITY(1,1) NOT NULL,\r\n",
                "        [batchId] [uniqueidentifier] NULL,\r\n",
                "        [errorLevel] [int] NULL,\r\n",
                "        [custom_message] [varchar](1000) NULL,\r\n",
                "        [message] [varchar](max) NULL,\r\n",
                "        [logCreated] [datetime] NULL\r\n",
                "    );\r\n",
                "END\r\n",
                "\r\n",
                "-- ETL Log History table\r\n",
                "IF NOT EXISTS (SELECT * FROM sysobjects WHERE name= N'EtlLogHistory' AND XTYPE='U')\r\n",
                "BEGIN\r\n",
                "    CREATE TABLE [dbo].[EtlLogHistory] (\r\n",
                "        [logId] [int] IDENTITY(1,1) NOT NULL,\r\n",
                "        [batchId] [uniqueidentifier] NULL,\r\n",
                "        [errorLevel] [int] NULL,\r\n",
                "        [message] [varchar](max) NOT NULL,\r\n",
                "        [logCreated] [datetime] NOT NULL,\r\n",
                "        [logCompName] [varchar](50) NULL,\r\n",
                "        [logUserName] [varchar](50) NULL\r\n",
                "    );\r\n",
                "END"
            ],
            "metadata": {
                "azdata_cell_guid": "c43ba8a9-6e2c-450b-8604-a94db7fa4ce6",
                "tags": []
            },
            "outputs": [],
            "execution_count": null
        },
        {
            "cell_type": "markdown",
            "source": [
                "Create stored procedure to run at beginning of ETL to manage logging"
            ],
            "metadata": {
                "azdata_cell_guid": "f7fbff57-1e60-4a69-b8e0-badcbecb2767"
            }
        },
        {
            "cell_type": "code",
            "source": [
                "CREATE OR ALTER PROCEDURE [dbo].[usp_ETL_Preprocess]\r\n",
                "AS\r\n",
                "BEGIN\r\n",
                "\tSET NOCOUNT ON;\r\n",
                "\r\n",
                "\t-- Create ETL Batch Id\r\n",
                "\tINSERT INTO [dbo].[EtlBatch] (batchId, batchStart) VALUES (NEWID(), GETDATE());\r\n",
                "\r\n",
                "\t-- Move logs to history\r\n",
                "\tINSERT INTO [dbo].[EtlLogHistory] (batchId, errorLevel, message, logCreated)\r\n",
                "\tSELECT batchId, errorLevel, message, logCreated\r\n",
                "\tFROM [dbo].[EtlLog]\r\n",
                "\tORDER BY logId;\r\n",
                "\r\n",
                "\t-- Clear logs\r\n",
                "\tDELETE FROM [dbo].[EtlLog];\r\n",
                "\r\n",
                "END\r\n",
                ""
            ],
            "metadata": {
                "azdata_cell_guid": "e71e3289-f0ad-42b3-8026-b2c89c50e4f8"
            },
            "outputs": [],
            "execution_count": null
        },
        {
            "cell_type": "markdown",
            "source": [
                "Create stored procedure to insert error logs into the ETL Log table"
            ],
            "metadata": {
                "azdata_cell_guid": "2661dabf-61f7-40e1-a36f-c87e738ea010"
            }
        },
        {
            "cell_type": "code",
            "source": [
                "CREATE OR ALTER PROCEDURE [dbo].[LogError]\r\n",
                "\t@hasBatchId bit = 0, @customMessage varchar(1000) = ''\t\r\n",
                "AS\r\n",
                "BEGIN\r\n",
                "\tSET NOCOUNT ON;\r\n",
                "\r\n",
                "\tDECLARE @BATCH_ID uniqueidentifier;\r\n",
                "\t--DECLARE @hasBatchId bit = 0;\r\n",
                "\r\n",
                "\tIF @hasBatchId = 1\r\n",
                "\tBEGIN\t\r\n",
                "\t\tSET @BATCH_ID = (SELECT TOP 1 batchId FROM [BCC_dwh].[dbo].[etlBatch] ORDER BY batchStart DESC);\t\r\n",
                "\tEND \r\n",
                "\r\n",
                "\tINSERT INTO [BCC_dwh].[dbo].[EtlLog] (batchId, errorLevel, custom_message, message, logCreated)\r\n",
                "\tSELECT  @BATCH_ID AS [batchId']\r\n",
                "\t\t, ERROR_SEVERITY() AS [errorLevel]\r\n",
                "\t\t, @customMessage AS [custom_message]\r\n",
                "\t\t, 'ErrorNumber - ' + COALESCE(CAST(ERROR_NUMBER() AS varchar(200)), ' ')\r\n",
                "\t\t\t+ ' ; ErrorState - ' +  COALESCE(CAST(ERROR_STATE() AS varchar(200)), ' ')\r\n",
                "\t\t\t+ ' ; ErrorProcedure - ' +  COALESCE(CAST(ERROR_PROCEDURE() AS varchar(200)), ' ')\r\n",
                "\t\t\t+ ' ; ErrorLine - ' +  COALESCE(CAST(ERROR_LINE() AS varchar(200)), ' ')\r\n",
                "\t\t\t+ ' ; ErrorMessage - ' +  COALESCE(CAST(ERROR_MESSAGE() AS varchar(200)), ' ') \r\n",
                "\t\t\tAS [message]\r\n",
                "\t\t, GETDATE() AS [logCreated]; \r\n",
                "END"
            ],
            "metadata": {
                "azdata_cell_guid": "8313ede7-37ad-49c7-a7a1-9195020496cb"
            },
            "outputs": [],
            "execution_count": null
        },
        {
            "cell_type": "markdown",
            "source": [
                "The code below allows you to use the error log"
            ],
            "metadata": {
                "azdata_cell_guid": "da201ea1-8ca3-4c8a-9946-b37cab96fd24"
            }
        },
        {
            "cell_type": "code",
            "source": [
                "-- This belongs at the top of the script\r\n",
                "DECLARE @scriptName varchar(200) = (SELECT OBJECT_SCHEMA_NAME(@@PROCID) + '.' + OBJECT_NAME(@@PROCID));\r\n",
                "\r\n",
                "-- Use the following code block to wrap commands you are executing\r\n",
                "BEGIN TRY\r\n",
                "    -- Replace the following RAISERROR with your code\r\n",
                "    RAISERROR ('Error raised in TRY block.', -- Message text.  \r\n",
                "        16, -- Severity.  \r\n",
                "        1 -- State.  \r\n",
                "        );\r\n",
                "END TRY  \r\n",
                "BEGIN CATCH  \r\n",
                "    EXECUTE [dbo].[LogError] @hasBatchId = 1, @customMessage = @scriptName;\r\n",
                "END CATCH;\r\n",
                "\r\n",
                "-- Alternatively you can use this to log things that are not necessarily related to a \r\n",
                "-- batch by passing 0 to @hasBatchId\r\n",
                "BEGIN TRY\r\n",
                "    -- Replace the following RAISERROR with your code\r\n",
                "    RAISERROR ('Error raised in TRY block.', -- Message text.  \r\n",
                "        16, -- Severity.  \r\n",
                "        1 -- State.  \r\n",
                "        );\r\n",
                "END TRY  \r\n",
                "BEGIN CATCH  \r\n",
                "    EXECUTE [dbo].[LogError] @hasBatchId = 0, @customMessage = @scriptName;\r\n",
                "END CATCH;\r\n",
                ""
            ],
            "metadata": {
                "azdata_cell_guid": "8d733344-3b82-4f85-966f-52103fc3c126"
            },
            "outputs": [],
            "execution_count": null
        }
    ]
}