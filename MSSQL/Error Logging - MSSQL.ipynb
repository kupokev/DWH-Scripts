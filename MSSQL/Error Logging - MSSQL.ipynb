{
    "cells": [
        {
            "cell_type": "markdown",
            "metadata": {
                "azdata_cell_guid": "2ce7601b-2656-4013-9b8e-72e880a4230a"
            },
            "source": [
                "# Error Logging\n",
                "\n",
                "Create ETL Log table"
            ]
        },
        {
            "cell_type": "code",
            "execution_count": null,
            "metadata": {
                "azdata_cell_guid": "c43ba8a9-6e2c-450b-8604-a94db7fa4ce6",
                "tags": []
            },
            "outputs": [],
            "source": [
                "-- ETL Batch table\n",
                "IF NOT EXISTS (SELECT * FROM sysobjects WHERE name= N'EtlBatch' AND XTYPE='U')\n",
                "BEGIN\n",
                "    CREATE TABLE [dbo].[EtlBatch] (\n",
                "        [batch_id] [uniqueidentifier] NOT NULL,\n",
                "\t\t[batch_start_date] [date] NOT NULL,\n",
                "        [batch_start_time] [time] NOT NULL\n",
                "    );\n",
                "END\n",
                "\n",
                "-- ETL Log table\n",
                "IF NOT EXISTS (SELECT * FROM sysobjects WHERE name= N'EtlLog' AND XTYPE='U')\n",
                "BEGIN\n",
                "    CREATE TABLE [dbo].[EtlLog] (\n",
                "        [log_id] [int] IDENTITY(1,1) NOT NULL,\n",
                "        [batch_id] [uniqueidentifier] NULL,\n",
                "        [error_level] [int] NULL,\n",
                "\t\t[script_name] [varchar](256) NULL,\n",
                "        [custom_message] [varchar](1000) NULL,\n",
                "        [message] [varchar](max) NULL,\n",
                "        [log_created_date] [date] NOT NULL,\n",
                "\t\t[log_created_time] [time] NOT NULL\n",
                "    );\n",
                "END\n",
                "\n",
                "-- ETL Log History table\n",
                "IF NOT EXISTS (SELECT * FROM sysobjects WHERE name= N'EtlLogHistory' AND XTYPE='U')\n",
                "BEGIN\n",
                "    CREATE TABLE [dbo].[EtlLogHistory] (\n",
                "        [log_id] [int] NOT NULL,\n",
                "        [batch_id] [uniqueidentifier] NULL,\n",
                "        [error_level] [int] NULL,\n",
                "\t\t[script_name] [varchar](256) NULL,\n",
                "        [custom_message] [varchar](1000) NULL,\n",
                "        [message] [varchar](max) NULL,\n",
                "        [log_created_date] [date] NOT NULL,\n",
                "\t\t[log_created_time] [time] NOT NULL\n",
                "    );\n",
                "END\n",
                "GO"
            ]
        },
        {
            "cell_type": "markdown",
            "metadata": {
                "azdata_cell_guid": "f7fbff57-1e60-4a69-b8e0-badcbecb2767"
            },
            "source": [
                "Create stored procedure to run at beginning of ETL to manage logging"
            ]
        },
        {
            "cell_type": "code",
            "execution_count": null,
            "metadata": {
                "azdata_cell_guid": "e71e3289-f0ad-42b3-8026-b2c89c50e4f8"
            },
            "outputs": [],
            "source": [
                "CREATE OR ALTER PROCEDURE [dbo].[usp_ETL_Preprocess]\n",
                "AS\n",
                "BEGIN\n",
                "\tSET NOCOUNT ON;\n",
                "\n",
                "\t-- Create ETL Batch Id\n",
                "\tINSERT INTO [dbo].[EtlBatch] ([batch_id], [batch_start_date], [batch_start_time]) VALUES (NEWID(), GETDATE(), GETDATE());\n",
                "\n",
                "\t-- Move logs to history\n",
                "\tINSERT INTO [dbo].[EtlLogHistory] (\n",
                "\t\t  [log_id]\n",
                "\t\t, [batch_id]\n",
                "\t\t, [error_level]\n",
                "\t\t, [script_name]\n",
                "\t\t, [custom_message]\n",
                "\t\t, [message]\n",
                "\t\t, [log_created_date]\n",
                "\t\t, [log_created_time]\n",
                "\t)\n",
                "\tSELECT \n",
                "\t\t  [log_id]\n",
                "\t\t, [batch_id]\n",
                "\t\t, [error_level]\n",
                "\t\t, [script_name]\n",
                "\t\t, [custom_message]\n",
                "\t\t, [message]\n",
                "\t\t, [log_created_date]\n",
                "\t\t, [log_created_time]\n",
                "\tFROM [dbo].[EtlLog]\n",
                "\tORDER BY [log_id];\n",
                "\n",
                "\t-- Clear logs\n",
                "\tDELETE FROM [dbo].[EtlLog];\n",
                "\n",
                "END\n",
                "GO"
            ]
        },
        {
            "cell_type": "markdown",
            "metadata": {
                "azdata_cell_guid": "2661dabf-61f7-40e1-a36f-c87e738ea010"
            },
            "source": [
                "Create stored procedure to insert error logs into the ETL Log table. This has been tested on SQL Server 2016, 2017, and 2019."
            ]
        },
        {
            "cell_type": "code",
            "execution_count": null,
            "metadata": {
                "azdata_cell_guid": "8313ede7-37ad-49c7-a7a1-9195020496cb"
            },
            "outputs": [],
            "source": [
                "CREATE OR ALTER PROCEDURE [dbo].[LogError]\n",
                "\t@CustomMessage varchar(1000), \n",
                "\t@ScriptName varchar(1000), \n",
                "\t@HasBatchId bit = 0\t\n",
                "AS\n",
                "BEGIN\n",
                "\tSET NOCOUNT ON;\n",
                "\n",
                "\tDECLARE @Batch_ID uniqueidentifier;\n",
                "\n",
                "\tIF @HasBatchId = 1\n",
                "\tBEGIN\t\n",
                "\t\tSET @BATCH_ID = (SELECT TOP 1 batch_id FROM [dbo].[EtlBatch] ORDER BY batch_start_date DESC, batch_start_time DESC);\t\n",
                "\tEND \n",
                "\n",
                "\tINSERT INTO [dbo].[EtlLog] (\n",
                "\t\t  [batch_id]\n",
                "\t\t, [error_level]\n",
                "\t\t, [script_name]\n",
                "\t\t, [custom_message]\n",
                "\t\t, [message]\n",
                "\t\t, [log_created_date]\n",
                "\t\t, [log_created_time]\n",
                "\t)\n",
                "\tSELECT  \n",
                "\t\t  @Batch_ID AS [batch_id]\n",
                "\t\t, ERROR_SEVERITY() AS [error_level]\n",
                "\t\t, @ScriptName AS [script_name]\n",
                "\t\t, @CustomMessage AS [custom_message]\n",
                "\t\t, IIF(ERROR_SEVERITY() > 0,\n",
                "\t\t\t CONCAT(\n",
                "\t\t\t\t'ErrorNumber - ', ERROR_NUMBER(),\n",
                "\t\t\t\t' ; ErrorState - ', ERROR_STATE(),\n",
                "\t\t\t\t' ; ErrorProcedure - ', ERROR_PROCEDURE(),\n",
                "\t\t\t\t' ; ErrorLine -' , ERROR_LINE(),\n",
                "\t\t\t\t' ; ErrorMessage - ', ERROR_MESSAGE()\n",
                "\t\t\t),\n",
                "\t\t\tNULL\n",
                "\t\t) AS [message]\n",
                "\t\t, GETDATE() AS [log_created_date] \n",
                "\t\t, GETDATE() AS [log_created_time];\n",
                "END\n",
                "GO"
            ]
        },
        {
            "cell_type": "markdown",
            "metadata": {
                "azdata_cell_guid": "da201ea1-8ca3-4c8a-9946-b37cab96fd24"
            },
            "source": [
                "The code below allows you to use the error log"
            ]
        },
        {
            "cell_type": "code",
            "execution_count": null,
            "metadata": {
                "azdata_cell_guid": "8d733344-3b82-4f85-966f-52103fc3c126"
            },
            "outputs": [],
            "source": [
                "-- This belongs at the top of the script\n",
                "DECLARE @scriptName varchar(200) = (SELECT OBJECT_SCHEMA_NAME(@@PROCID) + '.' + OBJECT_NAME(@@PROCID));\n",
                "\n",
                "-- Use the following code block to wrap commands you are executing\n",
                "BEGIN TRY\n",
                "    -- Replace the following RAISERROR with your code\n",
                "    RAISERROR ('Error raised in TRY block.', -- Message text.  \n",
                "        16, -- Severity.  \n",
                "        1 -- State.  \n",
                "        );\n",
                "END TRY  \n",
                "BEGIN CATCH  \n",
                "    EXECUTE [dbo].[LogError] @CustomMessage = 'Test Custom Message', @ScriptName = 'Test Script Name', @HasBatchId = 1;\n",
                "END CATCH;\n",
                "\n",
                "-- Alternatively you can use this to log things that are not necessarily related to a \n",
                "-- batch by passing 0 to @hasBatchId or excluding the argument since it defaults to 0 (false).\n",
                "BEGIN TRY\n",
                "    -- Replace the following RAISERROR with your code\n",
                "    RAISERROR ('Error raised in TRY block.', -- Message text.  \n",
                "        16, -- Severity.  \n",
                "        1 -- State.  \n",
                "        );\n",
                "END TRY  \n",
                "BEGIN CATCH  \n",
                "    EXECUTE [dbo].[LogError] @CustomMessage = 'Test Custom Message', @ScriptName = 'Test Script Name';\n",
                "END CATCH;\n"
            ]
        }
    ],
    "metadata": {
        "kernelspec": {
            "display_name": "SQL",
            "language": "sql",
            "name": "SQL"
        },
        "language_info": {
            "name": "sql",
            "version": ""
        }
    },
    "nbformat": 4,
    "nbformat_minor": 2
}
