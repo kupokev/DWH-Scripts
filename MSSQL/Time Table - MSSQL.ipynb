{
 "cells": [
  {
   "cell_type": "markdown",
   "metadata": {},
   "source": [
    "Create stored procedure for master time table."
   ]
  },
  {
   "cell_type": "code",
   "execution_count": null,
   "metadata": {},
   "outputs": [],
   "source": [
    "CREATE OR ALTER PROCEDURE [master].[Initialize_TimeTable]\n",
    "AS\n",
    "BEGIN\n",
    "\tSET NOCOUNT ON;\n",
    "\n",
    "    DROP TABLE IF EXISTS [master].[Time];\n",
    "\n",
    "    WITH h AS (\n",
    "        SELECT TOP 24 rn = ROW_NUMBER() OVER (ORDER BY s1.[object_id]) - 1\n",
    "        FROM sys.all_objects AS s1\n",
    "            CROSS JOIN sys.all_objects AS s2\n",
    "        ORDER BY s1.[object_id]\n",
    "    ),\n",
    "    m AS (\n",
    "        SELECT TOP 60 rn = ROW_NUMBER() OVER (ORDER BY s1.[object_id]) - 1\n",
    "        FROM sys.all_objects AS s1\n",
    "            CROSS JOIN sys.all_objects AS s2\n",
    "        ORDER BY s1.[object_id]\n",
    "    )\n",
    "\n",
    "    SELECT\n",
    "        [time_key]\n",
    "        , CONVERT(NVARCHAR, [time_key], 8) AS hhmmss\n",
    "        , LEFT(CONVERT(NVARCHAR, [time_key], 8), 5) AS hhmm\n",
    "        , [hour]\n",
    "        , [minute]\n",
    "        , [second]\n",
    "        , IIF([hour] < 12, 'AM', 'PM') AS [period_of_day]\n",
    "    INTO [master].[Time]\n",
    "    FROM (\n",
    "        SELECT\n",
    "            CAST(CONCAT(h.rn, ':', m.rn, ':', s.rn) AS TIME) AS [time_key]\n",
    "            , h.rn AS [hour]\n",
    "            , m.rn AS [minute]\n",
    "            , s.rn AS [second]\n",
    "        FROM h\n",
    "            CROSS APPLY m \n",
    "            CROSS APPLY m AS s\n",
    "    ) t\n",
    "    ORDER BY [time_key];\n",
    "        \n",
    "END\n",
    "GO"
   ]
  },
  {
   "cell_type": "markdown",
   "metadata": {},
   "source": [
    "Run the stored procedure to create new [master].[Time] table."
   ]
  },
  {
   "cell_type": "code",
   "execution_count": null,
   "metadata": {},
   "outputs": [],
   "source": [
    "EXEC [master].[Initialize_TimeTable];\n",
    "GO"
   ]
  }
 ],
 "metadata": {
  "language_info": {
   "name": "python"
  },
  "orig_nbformat": 4
 },
 "nbformat": 4,
 "nbformat_minor": 2
}
